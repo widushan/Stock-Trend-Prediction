{
 "cells": [
  {
   "cell_type": "code",
   "execution_count": 2,
   "id": "413398e7",
   "metadata": {},
   "outputs": [
    {
     "name": "stdout",
     "output_type": "stream",
     "text": [
      "Defaulting to user installation because normal site-packages is not writeable\n",
      "Collecting pandas-datareader\n",
      "  Downloading pandas_datareader-0.10.0-py3-none-any.whl.metadata (2.9 kB)\n",
      "Collecting lxml (from pandas-datareader)\n",
      "  Downloading lxml-6.0.2-cp311-cp311-win_amd64.whl.metadata (3.7 kB)\n",
      "Requirement already satisfied: pandas>=0.23 in c:\\users\\hp\\appdata\\roaming\\python\\python311\\site-packages (from pandas-datareader) (2.2.3)\n",
      "Requirement already satisfied: requests>=2.19.0 in c:\\users\\hp\\appdata\\roaming\\python\\python311\\site-packages (from pandas-datareader) (2.32.5)\n",
      "Requirement already satisfied: numpy>=1.23.2 in c:\\users\\hp\\appdata\\roaming\\python\\python311\\site-packages (from pandas>=0.23->pandas-datareader) (1.26.4)\n",
      "Requirement already satisfied: python-dateutil>=2.8.2 in c:\\users\\hp\\appdata\\roaming\\python\\python311\\site-packages (from pandas>=0.23->pandas-datareader) (2.9.0.post0)\n",
      "Requirement already satisfied: pytz>=2020.1 in c:\\users\\hp\\appdata\\roaming\\python\\python311\\site-packages (from pandas>=0.23->pandas-datareader) (2025.2)\n",
      "Requirement already satisfied: tzdata>=2022.7 in c:\\users\\hp\\appdata\\roaming\\python\\python311\\site-packages (from pandas>=0.23->pandas-datareader) (2025.2)\n",
      "Requirement already satisfied: six>=1.5 in c:\\users\\hp\\appdata\\roaming\\python\\python311\\site-packages (from python-dateutil>=2.8.2->pandas>=0.23->pandas-datareader) (1.17.0)\n",
      "Requirement already satisfied: charset_normalizer<4,>=2 in c:\\users\\hp\\appdata\\roaming\\python\\python311\\site-packages (from requests>=2.19.0->pandas-datareader) (3.4.1)\n",
      "Requirement already satisfied: idna<4,>=2.5 in c:\\users\\hp\\appdata\\roaming\\python\\python311\\site-packages (from requests>=2.19.0->pandas-datareader) (3.10)\n",
      "Requirement already satisfied: urllib3<3,>=1.21.1 in c:\\users\\hp\\appdata\\roaming\\python\\python311\\site-packages (from requests>=2.19.0->pandas-datareader) (2.5.0)\n",
      "Requirement already satisfied: certifi>=2017.4.17 in c:\\users\\hp\\appdata\\roaming\\python\\python311\\site-packages (from requests>=2.19.0->pandas-datareader) (2025.7.14)\n",
      "Downloading pandas_datareader-0.10.0-py3-none-any.whl (109 kB)\n",
      "Downloading lxml-6.0.2-cp311-cp311-win_amd64.whl (4.0 MB)\n",
      "   ---------------------------------------- 0.0/4.0 MB ? eta -:--:--\n",
      "   ----- ---------------------------------- 0.5/4.0 MB 4.2 MB/s eta 0:00:01\n",
      "   --------------- ------------------------ 1.6/4.0 MB 4.9 MB/s eta 0:00:01\n",
      "   ------------------------- -------------- 2.6/4.0 MB 4.9 MB/s eta 0:00:01\n",
      "   ------------------------------------ --- 3.7/4.0 MB 5.0 MB/s eta 0:00:01\n",
      "   ---------------------------------------- 4.0/4.0 MB 4.6 MB/s  0:00:00\n",
      "Installing collected packages: lxml, pandas-datareader\n",
      "\n",
      "   ---------------------------------------- 0/2 [lxml]\n",
      "   ---------------------------------------- 0/2 [lxml]\n",
      "   ---------------------------------------- 0/2 [lxml]\n",
      "   ---------------------------------------- 0/2 [lxml]\n",
      "   ---------------------------------------- 0/2 [lxml]\n",
      "   ---------------------------------------- 0/2 [lxml]\n",
      "   ---------------------------------------- 0/2 [lxml]\n",
      "   ---------------------------------------- 0/2 [lxml]\n",
      "   -------------------- ------------------- 1/2 [pandas-datareader]\n",
      "   -------------------- ------------------- 1/2 [pandas-datareader]\n",
      "   -------------------- ------------------- 1/2 [pandas-datareader]\n",
      "   -------------------- ------------------- 1/2 [pandas-datareader]\n",
      "   -------------------- ------------------- 1/2 [pandas-datareader]\n",
      "   -------------------- ------------------- 1/2 [pandas-datareader]\n",
      "   -------------------- ------------------- 1/2 [pandas-datareader]\n",
      "   -------------------- ------------------- 1/2 [pandas-datareader]\n",
      "   -------------------- ------------------- 1/2 [pandas-datareader]\n",
      "   -------------------- ------------------- 1/2 [pandas-datareader]\n",
      "   -------------------- ------------------- 1/2 [pandas-datareader]\n",
      "   -------------------- ------------------- 1/2 [pandas-datareader]\n",
      "   -------------------- ------------------- 1/2 [pandas-datareader]\n",
      "   -------------------- ------------------- 1/2 [pandas-datareader]\n",
      "   ---------------------------------------- 2/2 [pandas-datareader]\n",
      "\n",
      "Successfully installed lxml-6.0.2 pandas-datareader-0.10.0\n"
     ]
    },
    {
     "name": "stderr",
     "output_type": "stream",
     "text": [
      "\n",
      "[notice] A new release of pip is available: 25.2 -> 25.3\n",
      "[notice] To update, run: python.exe -m pip install --upgrade pip\n"
     ]
    }
   ],
   "source": [
    "!pip install pandas-datareader\n"
   ]
  },
  {
   "cell_type": "code",
   "execution_count": 3,
   "id": "16b63ab2",
   "metadata": {},
   "outputs": [],
   "source": [
    "import pandas as pd\n",
    "import numpy as np\n",
    "import matplotlib.pyplot as plt\n",
    "import pandas_datareader as data\n",
    "\n",
    "plt.style.use('fivethirtyeight')\n",
    "%matplotlib inline"
   ]
  },
  {
   "cell_type": "code",
   "execution_count": 5,
   "id": "54248674",
   "metadata": {},
   "outputs": [
    {
     "name": "stdout",
     "output_type": "stream",
     "text": [
      "Defaulting to user installation because normal site-packages is not writeable\n",
      "Collecting yfinance\n",
      "  Downloading yfinance-0.2.66-py2.py3-none-any.whl.metadata (6.0 kB)\n",
      "Requirement already satisfied: pandas>=1.3.0 in c:\\users\\hp\\appdata\\roaming\\python\\python311\\site-packages (from yfinance) (2.2.3)\n",
      "Requirement already satisfied: numpy>=1.16.5 in c:\\users\\hp\\appdata\\roaming\\python\\python311\\site-packages (from yfinance) (1.26.4)\n",
      "Requirement already satisfied: requests>=2.31 in c:\\users\\hp\\appdata\\roaming\\python\\python311\\site-packages (from yfinance) (2.32.5)\n",
      "Collecting multitasking>=0.0.7 (from yfinance)\n",
      "  Downloading multitasking-0.0.12.tar.gz (19 kB)\n",
      "  Preparing metadata (setup.py): started\n",
      "  Preparing metadata (setup.py): finished with status 'done'\n",
      "Requirement already satisfied: platformdirs>=2.0.0 in c:\\users\\hp\\appdata\\roaming\\python\\python311\\site-packages (from yfinance) (4.3.7)\n",
      "Requirement already satisfied: pytz>=2022.5 in c:\\users\\hp\\appdata\\roaming\\python\\python311\\site-packages (from yfinance) (2025.2)\n",
      "Collecting frozendict>=2.3.4 (from yfinance)\n",
      "  Downloading frozendict-2.4.6-py311-none-any.whl.metadata (23 kB)\n",
      "Collecting peewee>=3.16.2 (from yfinance)\n",
      "  Downloading peewee-3.18.2.tar.gz (949 kB)\n",
      "     ---------------------------------------- 0.0/949.2 kB ? eta -:--:--\n",
      "     ---------------------------------------- 0.0/949.2 kB ? eta -:--:--\n",
      "     ------------------------------- ------ 786.4/949.2 kB 3.7 MB/s eta 0:00:01\n",
      "     ------------------------------- ------ 786.4/949.2 kB 3.7 MB/s eta 0:00:01\n",
      "     ------------------------------- ------ 786.4/949.2 kB 3.7 MB/s eta 0:00:01\n",
      "     ---------------------------------------- 949.2/949.2 kB 1.0 MB/s  0:00:00\n",
      "  Installing build dependencies: started\n",
      "  Installing build dependencies: finished with status 'done'\n",
      "  Getting requirements to build wheel: started\n",
      "  Getting requirements to build wheel: finished with status 'done'\n",
      "  Preparing metadata (pyproject.toml): started\n",
      "  Preparing metadata (pyproject.toml): finished with status 'done'\n",
      "Requirement already satisfied: beautifulsoup4>=4.11.1 in c:\\users\\hp\\appdata\\roaming\\python\\python311\\site-packages (from yfinance) (4.13.4)\n",
      "Collecting curl_cffi>=0.7 (from yfinance)\n",
      "  Downloading curl_cffi-0.13.0-cp39-abi3-win_amd64.whl.metadata (13 kB)\n",
      "Requirement already satisfied: protobuf>=3.19.0 in c:\\users\\hp\\appdata\\roaming\\python\\python311\\site-packages (from yfinance) (4.25.8)\n",
      "Requirement already satisfied: websockets>=13.0 in c:\\users\\hp\\appdata\\roaming\\python\\python311\\site-packages (from yfinance) (15.0.1)\n",
      "Requirement already satisfied: soupsieve>1.2 in c:\\users\\hp\\appdata\\roaming\\python\\python311\\site-packages (from beautifulsoup4>=4.11.1->yfinance) (2.7)\n",
      "Requirement already satisfied: typing-extensions>=4.0.0 in c:\\users\\hp\\appdata\\roaming\\python\\python311\\site-packages (from beautifulsoup4>=4.11.1->yfinance) (4.14.1)\n",
      "Requirement already satisfied: cffi>=1.12.0 in c:\\users\\hp\\appdata\\roaming\\python\\python311\\site-packages (from curl_cffi>=0.7->yfinance) (1.17.1)\n",
      "Requirement already satisfied: certifi>=2024.2.2 in c:\\users\\hp\\appdata\\roaming\\python\\python311\\site-packages (from curl_cffi>=0.7->yfinance) (2025.7.14)\n",
      "Requirement already satisfied: pycparser in c:\\users\\hp\\appdata\\roaming\\python\\python311\\site-packages (from cffi>=1.12.0->curl_cffi>=0.7->yfinance) (2.22)\n",
      "Requirement already satisfied: python-dateutil>=2.8.2 in c:\\users\\hp\\appdata\\roaming\\python\\python311\\site-packages (from pandas>=1.3.0->yfinance) (2.9.0.post0)\n",
      "Requirement already satisfied: tzdata>=2022.7 in c:\\users\\hp\\appdata\\roaming\\python\\python311\\site-packages (from pandas>=1.3.0->yfinance) (2025.2)\n",
      "Requirement already satisfied: six>=1.5 in c:\\users\\hp\\appdata\\roaming\\python\\python311\\site-packages (from python-dateutil>=2.8.2->pandas>=1.3.0->yfinance) (1.17.0)\n",
      "Requirement already satisfied: charset_normalizer<4,>=2 in c:\\users\\hp\\appdata\\roaming\\python\\python311\\site-packages (from requests>=2.31->yfinance) (3.4.1)\n",
      "Requirement already satisfied: idna<4,>=2.5 in c:\\users\\hp\\appdata\\roaming\\python\\python311\\site-packages (from requests>=2.31->yfinance) (3.10)\n",
      "Requirement already satisfied: urllib3<3,>=1.21.1 in c:\\users\\hp\\appdata\\roaming\\python\\python311\\site-packages (from requests>=2.31->yfinance) (2.5.0)\n",
      "Downloading yfinance-0.2.66-py2.py3-none-any.whl (123 kB)\n",
      "Downloading curl_cffi-0.13.0-cp39-abi3-win_amd64.whl (1.6 MB)\n",
      "   ---------------------------------------- 0.0/1.6 MB ? eta -:--:--\n",
      "   ---------------------------------------- 0.0/1.6 MB ? eta -:--:--\n",
      "   ---------------------------------------- 0.0/1.6 MB ? eta -:--:--\n",
      "   ------------ --------------------------- 0.5/1.6 MB 1.5 MB/s eta 0:00:01\n",
      "   ------------------- -------------------- 0.8/1.6 MB 1.3 MB/s eta 0:00:01\n",
      "   ------------------- -------------------- 0.8/1.6 MB 1.3 MB/s eta 0:00:01\n",
      "   -------------------------------- ------- 1.3/1.6 MB 1.3 MB/s eta 0:00:01\n",
      "   ---------------------------------------- 1.6/1.6 MB 1.4 MB/s  0:00:01\n",
      "Downloading frozendict-2.4.6-py311-none-any.whl (16 kB)\n",
      "Building wheels for collected packages: multitasking, peewee\n",
      "  Building wheel for multitasking (setup.py): started\n",
      "  Building wheel for multitasking (setup.py): finished with status 'done'\n",
      "  Created wheel for multitasking: filename=multitasking-0.0.12-py3-none-any.whl size=15703 sha256=16361e8963f2fc0d13ad9db2aa62c282f51d2cf384b33ca2a4cd9ab1937d7dd3\n",
      "  Stored in directory: c:\\users\\hp\\appdata\\local\\pip\\cache\\wheels\\42\\d6\\84\\bf57a755f4569494cd00de4bb46ef064874823f4d19c82e960\n",
      "  Building wheel for peewee (pyproject.toml): started\n",
      "  Building wheel for peewee (pyproject.toml): finished with status 'done'\n",
      "  Created wheel for peewee: filename=peewee-3.18.2-py3-none-any.whl size=139153 sha256=9872a6e24bbeac4a14370d05c3c96e82dc00abc2fc9e741e287e250cddf3d743\n",
      "  Stored in directory: c:\\users\\hp\\appdata\\local\\pip\\cache\\wheels\\28\\84\\61\\758d1bd7b9c9d700158c8642a8aff2a9bf2e1ae69641c40784\n",
      "Successfully built multitasking peewee\n",
      "Installing collected packages: peewee, multitasking, frozendict, curl_cffi, yfinance\n",
      "\n",
      "   ---------------------------------------- 0/5 [peewee]\n",
      "   ---------------------------------------- 0/5 [peewee]\n",
      "   ---------------------------------------- 0/5 [peewee]\n",
      "   ---------------------------------------- 0/5 [peewee]\n",
      "   ---------------- ----------------------- 2/5 [frozendict]\n",
      "   ---------------- ----------------------- 2/5 [frozendict]\n",
      "   ------------------------ --------------- 3/5 [curl_cffi]\n",
      "   ------------------------ --------------- 3/5 [curl_cffi]\n",
      "   ------------------------ --------------- 3/5 [curl_cffi]\n",
      "   ------------------------ --------------- 3/5 [curl_cffi]\n",
      "   -------------------------------- ------- 4/5 [yfinance]\n",
      "   -------------------------------- ------- 4/5 [yfinance]\n",
      "   -------------------------------- ------- 4/5 [yfinance]\n",
      "   -------------------------------- ------- 4/5 [yfinance]\n",
      "   -------------------------------- ------- 4/5 [yfinance]\n",
      "   -------------------------------- ------- 4/5 [yfinance]\n",
      "   -------------------------------- ------- 4/5 [yfinance]\n",
      "   -------------------------------- ------- 4/5 [yfinance]\n",
      "   ---------------------------------------- 5/5 [yfinance]\n",
      "\n",
      "Successfully installed curl_cffi-0.13.0 frozendict-2.4.6 multitasking-0.0.12 peewee-3.18.2 yfinance-0.2.66\n"
     ]
    },
    {
     "name": "stderr",
     "output_type": "stream",
     "text": [
      "  DEPRECATION: Building 'multitasking' using the legacy setup.py bdist_wheel mechanism, which will be removed in a future version. pip 25.3 will enforce this behaviour change. A possible replacement is to use the standardized build interface by setting the `--use-pep517` option, (possibly combined with `--no-build-isolation`), or adding a `pyproject.toml` file to the source tree of 'multitasking'. Discussion can be found at https://github.com/pypa/pip/issues/6334\n",
      "\n",
      "[notice] A new release of pip is available: 25.2 -> 25.3\n",
      "[notice] To update, run: python.exe -m pip install --upgrade pip\n"
     ]
    }
   ],
   "source": [
    "!pip install yfinance\n"
   ]
  },
  {
   "cell_type": "code",
   "execution_count": 7,
   "id": "8b35f93b",
   "metadata": {},
   "outputs": [
    {
     "name": "stderr",
     "output_type": "stream",
     "text": [
      "C:\\Users\\hp\\AppData\\Local\\Temp\\ipykernel_9348\\3546338506.py:8: FutureWarning: YF.download() has changed argument auto_adjust default to True\n",
      "  df = yf.download(stock, start, end)\n",
      "[*********************100%***********************]  1 of 1 completed\n"
     ]
    }
   ],
   "source": [
    "import yfinance as yf\n",
    "import datetime as dt\n",
    "\n",
    "stock = \"POWERGRID.NS\"\n",
    "start = dt.datetime(2020, 1, 1)\n",
    "end = dt.datetime(2025, 10, 30)\n",
    "\n",
    "df = yf.download(stock, start, end)"
   ]
  },
  {
   "cell_type": "code",
   "execution_count": 8,
   "id": "ab0bcec1",
   "metadata": {},
   "outputs": [
    {
     "data": {
      "text/html": [
       "<div>\n",
       "<style scoped>\n",
       "    .dataframe tbody tr th:only-of-type {\n",
       "        vertical-align: middle;\n",
       "    }\n",
       "\n",
       "    .dataframe tbody tr th {\n",
       "        vertical-align: top;\n",
       "    }\n",
       "\n",
       "    .dataframe thead tr th {\n",
       "        text-align: left;\n",
       "    }\n",
       "\n",
       "    .dataframe thead tr:last-of-type th {\n",
       "        text-align: right;\n",
       "    }\n",
       "</style>\n",
       "<table border=\"1\" class=\"dataframe\">\n",
       "  <thead>\n",
       "    <tr>\n",
       "      <th>Price</th>\n",
       "      <th>Close</th>\n",
       "      <th>High</th>\n",
       "      <th>Low</th>\n",
       "      <th>Open</th>\n",
       "      <th>Volume</th>\n",
       "    </tr>\n",
       "    <tr>\n",
       "      <th>Ticker</th>\n",
       "      <th>POWERGRID.NS</th>\n",
       "      <th>POWERGRID.NS</th>\n",
       "      <th>POWERGRID.NS</th>\n",
       "      <th>POWERGRID.NS</th>\n",
       "      <th>POWERGRID.NS</th>\n",
       "    </tr>\n",
       "    <tr>\n",
       "      <th>Date</th>\n",
       "      <th></th>\n",
       "      <th></th>\n",
       "      <th></th>\n",
       "      <th></th>\n",
       "      <th></th>\n",
       "    </tr>\n",
       "  </thead>\n",
       "  <tbody>\n",
       "    <tr>\n",
       "      <th>2020-01-01</th>\n",
       "      <td>78.849586</td>\n",
       "      <td>79.010914</td>\n",
       "      <td>76.732137</td>\n",
       "      <td>76.853138</td>\n",
       "      <td>13620373</td>\n",
       "    </tr>\n",
       "    <tr>\n",
       "      <th>2020-01-02</th>\n",
       "      <td>78.688271</td>\n",
       "      <td>79.333588</td>\n",
       "      <td>78.385779</td>\n",
       "      <td>78.869768</td>\n",
       "      <td>5673692</td>\n",
       "    </tr>\n",
       "    <tr>\n",
       "      <th>2020-01-03</th>\n",
       "      <td>77.841286</td>\n",
       "      <td>78.567264</td>\n",
       "      <td>77.135466</td>\n",
       "      <td>78.345439</td>\n",
       "      <td>7358268</td>\n",
       "    </tr>\n",
       "    <tr>\n",
       "      <th>2020-01-06</th>\n",
       "      <td>77.881615</td>\n",
       "      <td>78.224440</td>\n",
       "      <td>75.824668</td>\n",
       "      <td>77.437964</td>\n",
       "      <td>7355290</td>\n",
       "    </tr>\n",
       "    <tr>\n",
       "      <th>2020-01-07</th>\n",
       "      <td>77.316963</td>\n",
       "      <td>78.446270</td>\n",
       "      <td>77.095138</td>\n",
       "      <td>77.901783</td>\n",
       "      <td>14023712</td>\n",
       "    </tr>\n",
       "  </tbody>\n",
       "</table>\n",
       "</div>"
      ],
      "text/plain": [
       "Price             Close         High          Low         Open       Volume\n",
       "Ticker     POWERGRID.NS POWERGRID.NS POWERGRID.NS POWERGRID.NS POWERGRID.NS\n",
       "Date                                                                       \n",
       "2020-01-01    78.849586    79.010914    76.732137    76.853138     13620373\n",
       "2020-01-02    78.688271    79.333588    78.385779    78.869768      5673692\n",
       "2020-01-03    77.841286    78.567264    77.135466    78.345439      7358268\n",
       "2020-01-06    77.881615    78.224440    75.824668    77.437964      7355290\n",
       "2020-01-07    77.316963    78.446270    77.095138    77.901783     14023712"
      ]
     },
     "execution_count": 8,
     "metadata": {},
     "output_type": "execute_result"
    }
   ],
   "source": [
    "df.head()"
   ]
  },
  {
   "cell_type": "code",
   "execution_count": 9,
   "id": "f39a0766",
   "metadata": {},
   "outputs": [
    {
     "data": {
      "text/plain": [
       "(1444, 5)"
      ]
     },
     "execution_count": 9,
     "metadata": {},
     "output_type": "execute_result"
    }
   ],
   "source": [
    "df.shape"
   ]
  },
  {
   "cell_type": "code",
   "execution_count": 10,
   "id": "fdc15a7d",
   "metadata": {},
   "outputs": [
    {
     "name": "stdout",
     "output_type": "stream",
     "text": [
      "<class 'pandas.core.frame.DataFrame'>\n",
      "DatetimeIndex: 1444 entries, 2020-01-01 to 2025-10-29\n",
      "Data columns (total 5 columns):\n",
      " #   Column                  Non-Null Count  Dtype  \n",
      "---  ------                  --------------  -----  \n",
      " 0   (Close, POWERGRID.NS)   1444 non-null   float64\n",
      " 1   (High, POWERGRID.NS)    1444 non-null   float64\n",
      " 2   (Low, POWERGRID.NS)     1444 non-null   float64\n",
      " 3   (Open, POWERGRID.NS)    1444 non-null   float64\n",
      " 4   (Volume, POWERGRID.NS)  1444 non-null   int64  \n",
      "dtypes: float64(4), int64(1)\n",
      "memory usage: 67.7 KB\n"
     ]
    }
   ],
   "source": [
    "df.info()"
   ]
  },
  {
   "cell_type": "code",
   "execution_count": 11,
   "id": "314d4ab8",
   "metadata": {},
   "outputs": [
    {
     "data": {
      "text/plain": [
       "Price   Ticker      \n",
       "Close   POWERGRID.NS    0\n",
       "High    POWERGRID.NS    0\n",
       "Low     POWERGRID.NS    0\n",
       "Open    POWERGRID.NS    0\n",
       "Volume  POWERGRID.NS    0\n",
       "dtype: int64"
      ]
     },
     "execution_count": 11,
     "metadata": {},
     "output_type": "execute_result"
    }
   ],
   "source": [
    "df.isnull().sum()"
   ]
  },
  {
   "cell_type": "code",
   "execution_count": 12,
   "id": "ea7d5d4a",
   "metadata": {},
   "outputs": [
    {
     "data": {
      "text/html": [
       "<div>\n",
       "<style scoped>\n",
       "    .dataframe tbody tr th:only-of-type {\n",
       "        vertical-align: middle;\n",
       "    }\n",
       "\n",
       "    .dataframe tbody tr th {\n",
       "        vertical-align: top;\n",
       "    }\n",
       "\n",
       "    .dataframe thead tr th {\n",
       "        text-align: left;\n",
       "    }\n",
       "</style>\n",
       "<table border=\"1\" class=\"dataframe\">\n",
       "  <thead>\n",
       "    <tr>\n",
       "      <th>Price</th>\n",
       "      <th>Close</th>\n",
       "      <th>High</th>\n",
       "      <th>Low</th>\n",
       "      <th>Open</th>\n",
       "      <th>Volume</th>\n",
       "    </tr>\n",
       "    <tr>\n",
       "      <th>Ticker</th>\n",
       "      <th>POWERGRID.NS</th>\n",
       "      <th>POWERGRID.NS</th>\n",
       "      <th>POWERGRID.NS</th>\n",
       "      <th>POWERGRID.NS</th>\n",
       "      <th>POWERGRID.NS</th>\n",
       "    </tr>\n",
       "  </thead>\n",
       "  <tbody>\n",
       "    <tr>\n",
       "      <th>count</th>\n",
       "      <td>1444.000000</td>\n",
       "      <td>1444.000000</td>\n",
       "      <td>1444.000000</td>\n",
       "      <td>1444.000000</td>\n",
       "      <td>1.444000e+03</td>\n",
       "    </tr>\n",
       "    <tr>\n",
       "      <th>mean</th>\n",
       "      <td>176.148587</td>\n",
       "      <td>178.319715</td>\n",
       "      <td>174.002628</td>\n",
       "      <td>176.188291</td>\n",
       "      <td>1.707470e+07</td>\n",
       "    </tr>\n",
       "    <tr>\n",
       "      <th>std</th>\n",
       "      <td>87.050330</td>\n",
       "      <td>87.979122</td>\n",
       "      <td>86.052654</td>\n",
       "      <td>87.048595</td>\n",
       "      <td>1.349659e+07</td>\n",
       "    </tr>\n",
       "    <tr>\n",
       "      <th>min</th>\n",
       "      <td>60.278690</td>\n",
       "      <td>63.519494</td>\n",
       "      <td>51.079026</td>\n",
       "      <td>59.191462</td>\n",
       "      <td>0.000000e+00</td>\n",
       "    </tr>\n",
       "    <tr>\n",
       "      <th>25%</th>\n",
       "      <td>102.950129</td>\n",
       "      <td>104.039818</td>\n",
       "      <td>102.078382</td>\n",
       "      <td>103.212791</td>\n",
       "      <td>9.852886e+06</td>\n",
       "    </tr>\n",
       "    <tr>\n",
       "      <th>50%</th>\n",
       "      <td>147.290520</td>\n",
       "      <td>148.803627</td>\n",
       "      <td>145.837390</td>\n",
       "      <td>147.345506</td>\n",
       "      <td>1.361697e+07</td>\n",
       "    </tr>\n",
       "    <tr>\n",
       "      <th>75%</th>\n",
       "      <td>274.482536</td>\n",
       "      <td>278.008139</td>\n",
       "      <td>268.926076</td>\n",
       "      <td>273.432940</td>\n",
       "      <td>1.999199e+07</td>\n",
       "    </tr>\n",
       "    <tr>\n",
       "      <th>max</th>\n",
       "      <td>354.580750</td>\n",
       "      <td>355.356950</td>\n",
       "      <td>346.576122</td>\n",
       "      <td>353.222365</td>\n",
       "      <td>2.260593e+08</td>\n",
       "    </tr>\n",
       "  </tbody>\n",
       "</table>\n",
       "</div>"
      ],
      "text/plain": [
       "Price         Close         High          Low         Open        Volume\n",
       "Ticker POWERGRID.NS POWERGRID.NS POWERGRID.NS POWERGRID.NS  POWERGRID.NS\n",
       "count   1444.000000  1444.000000  1444.000000  1444.000000  1.444000e+03\n",
       "mean     176.148587   178.319715   174.002628   176.188291  1.707470e+07\n",
       "std       87.050330    87.979122    86.052654    87.048595  1.349659e+07\n",
       "min       60.278690    63.519494    51.079026    59.191462  0.000000e+00\n",
       "25%      102.950129   104.039818   102.078382   103.212791  9.852886e+06\n",
       "50%      147.290520   148.803627   145.837390   147.345506  1.361697e+07\n",
       "75%      274.482536   278.008139   268.926076   273.432940  1.999199e+07\n",
       "max      354.580750   355.356950   346.576122   353.222365  2.260593e+08"
      ]
     },
     "execution_count": 12,
     "metadata": {},
     "output_type": "execute_result"
    }
   ],
   "source": [
    "df.describe()"
   ]
  },
  {
   "cell_type": "code",
   "execution_count": 13,
   "id": "2ae38a20",
   "metadata": {},
   "outputs": [],
   "source": [
    "df = df.reset_index()"
   ]
  },
  {
   "cell_type": "code",
   "execution_count": 14,
   "id": "50ec7e48",
   "metadata": {},
   "outputs": [
    {
     "data": {
      "text/plain": [
       "MultiIndex([(  'Date',             ''),\n",
       "            ( 'Close', 'POWERGRID.NS'),\n",
       "            (  'High', 'POWERGRID.NS'),\n",
       "            (   'Low', 'POWERGRID.NS'),\n",
       "            (  'Open', 'POWERGRID.NS'),\n",
       "            ('Volume', 'POWERGRID.NS')],\n",
       "           names=['Price', 'Ticker'])"
      ]
     },
     "execution_count": 14,
     "metadata": {},
     "output_type": "execute_result"
    }
   ],
   "source": [
    "df.columns"
   ]
  },
  {
   "cell_type": "code",
   "execution_count": 15,
   "id": "6f89c686",
   "metadata": {},
   "outputs": [],
   "source": [
    "df.to_csv(\"powergrid.csv\")"
   ]
  },
  {
   "cell_type": "code",
   "execution_count": 16,
   "id": "22a08b9e",
   "metadata": {},
   "outputs": [],
   "source": [
    "data01 = pd.read_csv(\"powergrid.csv\")"
   ]
  },
  {
   "cell_type": "code",
   "execution_count": 17,
   "id": "a47b941c",
   "metadata": {},
   "outputs": [
    {
     "data": {
      "text/html": [
       "<div>\n",
       "<style scoped>\n",
       "    .dataframe tbody tr th:only-of-type {\n",
       "        vertical-align: middle;\n",
       "    }\n",
       "\n",
       "    .dataframe tbody tr th {\n",
       "        vertical-align: top;\n",
       "    }\n",
       "\n",
       "    .dataframe thead th {\n",
       "        text-align: right;\n",
       "    }\n",
       "</style>\n",
       "<table border=\"1\" class=\"dataframe\">\n",
       "  <thead>\n",
       "    <tr style=\"text-align: right;\">\n",
       "      <th></th>\n",
       "      <th>Price</th>\n",
       "      <th>Date</th>\n",
       "      <th>Close</th>\n",
       "      <th>High</th>\n",
       "      <th>Low</th>\n",
       "      <th>Open</th>\n",
       "      <th>Volume</th>\n",
       "    </tr>\n",
       "  </thead>\n",
       "  <tbody>\n",
       "    <tr>\n",
       "      <th>0</th>\n",
       "      <td>Ticker</td>\n",
       "      <td>NaN</td>\n",
       "      <td>POWERGRID.NS</td>\n",
       "      <td>POWERGRID.NS</td>\n",
       "      <td>POWERGRID.NS</td>\n",
       "      <td>POWERGRID.NS</td>\n",
       "      <td>POWERGRID.NS</td>\n",
       "    </tr>\n",
       "    <tr>\n",
       "      <th>1</th>\n",
       "      <td>0</td>\n",
       "      <td>2020-01-01</td>\n",
       "      <td>78.8495864868164</td>\n",
       "      <td>79.01091442517412</td>\n",
       "      <td>76.73213746562567</td>\n",
       "      <td>76.85313752220343</td>\n",
       "      <td>13620373</td>\n",
       "    </tr>\n",
       "    <tr>\n",
       "      <th>2</th>\n",
       "      <td>1</td>\n",
       "      <td>2020-01-02</td>\n",
       "      <td>78.68827056884766</td>\n",
       "      <td>79.33358793613205</td>\n",
       "      <td>78.38577856578439</td>\n",
       "      <td>78.86976795885114</td>\n",
       "      <td>5673692</td>\n",
       "    </tr>\n",
       "    <tr>\n",
       "      <th>3</th>\n",
       "      <td>2</td>\n",
       "      <td>2020-01-03</td>\n",
       "      <td>77.8412857055664</td>\n",
       "      <td>78.56726421627708</td>\n",
       "      <td>77.13546566680184</td>\n",
       "      <td>78.34543896867466</td>\n",
       "      <td>7358268</td>\n",
       "    </tr>\n",
       "    <tr>\n",
       "      <th>4</th>\n",
       "      <td>3</td>\n",
       "      <td>2020-01-06</td>\n",
       "      <td>77.8816146850586</td>\n",
       "      <td>78.22444000287386</td>\n",
       "      <td>75.82466824858002</td>\n",
       "      <td>77.43796418361738</td>\n",
       "      <td>7355290</td>\n",
       "    </tr>\n",
       "  </tbody>\n",
       "</table>\n",
       "</div>"
      ],
      "text/plain": [
       "    Price        Date              Close               High  \\\n",
       "0  Ticker         NaN       POWERGRID.NS       POWERGRID.NS   \n",
       "1       0  2020-01-01   78.8495864868164  79.01091442517412   \n",
       "2       1  2020-01-02  78.68827056884766  79.33358793613205   \n",
       "3       2  2020-01-03   77.8412857055664  78.56726421627708   \n",
       "4       3  2020-01-06   77.8816146850586  78.22444000287386   \n",
       "\n",
       "                 Low               Open        Volume  \n",
       "0       POWERGRID.NS       POWERGRID.NS  POWERGRID.NS  \n",
       "1  76.73213746562567  76.85313752220343      13620373  \n",
       "2  78.38577856578439  78.86976795885114       5673692  \n",
       "3  77.13546566680184  78.34543896867466       7358268  \n",
       "4  75.82466824858002  77.43796418361738       7355290  "
      ]
     },
     "execution_count": 17,
     "metadata": {},
     "output_type": "execute_result"
    }
   ],
   "source": [
    "data01.head()"
   ]
  },
  {
   "cell_type": "code",
   "execution_count": null,
   "id": "64bce4a3",
   "metadata": {},
   "outputs": [],
   "source": []
  }
 ],
 "metadata": {
  "kernelspec": {
   "display_name": "Python 3",
   "language": "python",
   "name": "python3"
  },
  "language_info": {
   "codemirror_mode": {
    "name": "ipython",
    "version": 3
   },
   "file_extension": ".py",
   "mimetype": "text/x-python",
   "name": "python",
   "nbconvert_exporter": "python",
   "pygments_lexer": "ipython3",
   "version": "3.11.0"
  }
 },
 "nbformat": 4,
 "nbformat_minor": 5
}
